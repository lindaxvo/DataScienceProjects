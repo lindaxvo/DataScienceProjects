{
 "cells": [
  {
   "cell_type": "markdown",
   "id": "630e7a18",
   "metadata": {},
   "source": [
    "<b> Exercises for Python Module 1 </b>\n",
    "\n",
    "Make sure to comment all your code!"
   ]
  },
  {
   "cell_type": "markdown",
   "id": "27e339a6",
   "metadata": {},
   "source": [
    "Accept the user's first and last name and print them in reverse order with a space between them. \n",
    "\n",
    "Keyword hints: print function, input function, append, add, string"
   ]
  },
  {
   "cell_type": "code",
   "execution_count": 1,
   "id": "622a3ae7",
   "metadata": {},
   "outputs": [
    {
     "name": "stdout",
     "output_type": "stream",
     "text": [
      "what is your first name : grey\n",
      "What is your last name : wilson\n",
      "wilson grey\n"
     ]
    }
   ],
   "source": [
    "#asking for first name\n",
    "first = input (\"what is your first name : \")\n",
    "\n",
    "#asking for last name\n",
    "last = input (\"What is your last name : \")\n",
    "\n",
    "#printing in reverse order\n",
    "print (last + \" \" + first)\n"
   ]
  },
  {
   "cell_type": "code",
   "execution_count": 4,
   "id": "f6b2cc68",
   "metadata": {},
   "outputs": [
    {
     "name": "stdout",
     "output_type": "stream",
     "text": [
      "What country are you from? : honduras\n",
      "I have heard that honduras is a beautiful country\n"
     ]
    }
   ],
   "source": [
    "#asking for country where they are from\n",
    "\n",
    "country = input (\"What country are you from? : \")\n",
    "\n",
    "#printing the following statment\n",
    "print (\"I have heard that \" + country + \" is a beautiful country\")\n",
    "\n"
   ]
  },
  {
   "cell_type": "markdown",
   "id": "ea977dfc",
   "metadata": {},
   "source": [
    "Ask the user \"What country are you from?\" then print the following statement: \"I have heard that [input] is a beautiful country!\""
   ]
  },
  {
   "cell_type": "markdown",
   "id": "217d837d",
   "metadata": {},
   "source": [
    "Explain the output for:\n",
    "\n",
    "x = 36 / 4 * (3 +  2) * 4 + 2"
   ]
  },
  {
   "cell_type": "code",
   "execution_count": 16,
   "id": "8247422a",
   "metadata": {},
   "outputs": [
    {
     "name": "stdout",
     "output_type": "stream",
     "text": [
      "182.0\n"
     ]
    }
   ],
   "source": [
    "#reading from left to right - pemdas considering order of operations\n",
    "x = 36 / 4 * (3 + 2) * 4 + 2\n",
    "\n",
    "print (x)\n"
   ]
  },
  {
   "cell_type": "markdown",
   "id": "7b77d65d",
   "metadata": {},
   "source": [
    "What is the output of the following code and what arithmetic operators is being used here? \n",
    "\n",
    "print(2%6)"
   ]
  },
  {
   "cell_type": "code",
   "execution_count": 19,
   "id": "a819b258",
   "metadata": {},
   "outputs": [
    {
     "name": "stdout",
     "output_type": "stream",
     "text": [
      "2\n"
     ]
    }
   ],
   "source": [
    "#printing the output \n",
    "print(2%6)\n",
    "\n",
    "#Modulus Operator: Dividing the two numbers and returns the remainder\n"
   ]
  },
  {
   "cell_type": "markdown",
   "id": "b2f2fe38",
   "metadata": {},
   "source": [
    "What is the output of the following code and what arithmetic operators are used here? \n",
    "\n",
    "print(2 * 3 ** 3 * 4)"
   ]
  },
  {
   "cell_type": "code",
   "execution_count": 17,
   "id": "5a218db8",
   "metadata": {},
   "outputs": [
    {
     "name": "stdout",
     "output_type": "stream",
     "text": [
      "216\n"
     ]
    }
   ],
   "source": [
    "print(2 * 3 ** 3 * 4)\n",
    "\n",
    "#Multiplication and Double Star Operator: Multiplication of two numbers and then using the power operator to raise the number \n",
    "#to the left and then to the right and then multiplying again "
   ]
  },
  {
   "cell_type": "markdown",
   "id": "c7ccc477",
   "metadata": {},
   "source": [
    "Accept an integer (n) and compute the value of n+nn+nnn. For example, if n = 4, then n+nn+nnn should equal 492. \n",
    "\n",
    "Keyword hints: Hint(4+44+444)"
   ]
  },
  {
   "cell_type": "code",
   "execution_count": 21,
   "id": "34078483",
   "metadata": {},
   "outputs": [
    {
     "name": "stdout",
     "output_type": "stream",
     "text": [
      "492\n"
     ]
    }
   ],
   "source": [
    "#inputing an integer\n",
    "n = int(4) \n",
    "\n",
    "n1 = int(\"%s\" % n)\n",
    "n2 = int(\"%s%s\" % (n, n))\n",
    "n3 = int(\"%s%s%s\" % (n,n,n))\n",
    "\n",
    "print(n1 + n2 + n3)"
   ]
  },
  {
   "cell_type": "markdown",
   "id": "cc9d29ed",
   "metadata": {},
   "source": [
    "What is an IDE?"
   ]
  },
  {
   "cell_type": "code",
   "execution_count": null,
   "id": "8bd82147",
   "metadata": {},
   "outputs": [],
   "source": [
    "#Integrated Development Environment - Software application that helps develop code "
   ]
  },
  {
   "cell_type": "markdown",
   "id": "f702b1de",
   "metadata": {},
   "source": [
    "What is a Text Editor?"
   ]
  },
  {
   "cell_type": "code",
   "execution_count": null,
   "id": "8376072d",
   "metadata": {},
   "outputs": [],
   "source": [
    "#Application for writing code"
   ]
  },
  {
   "cell_type": "markdown",
   "id": "bc31d150",
   "metadata": {},
   "source": [
    "What is  filepath?"
   ]
  },
  {
   "cell_type": "code",
   "execution_count": null,
   "id": "1526b4ee",
   "metadata": {},
   "outputs": [],
   "source": [
    "#Location of the file in a computer's file system"
   ]
  },
  {
   "cell_type": "markdown",
   "id": "1a8bf765",
   "metadata": {},
   "source": [
    "Describe Python as a programming language?"
   ]
  },
  {
   "cell_type": "code",
   "execution_count": null,
   "id": "fd96c663",
   "metadata": {},
   "outputs": [],
   "source": [
    "#Object-oriented programming language that is interpreted rather than complied"
   ]
  },
  {
   "cell_type": "markdown",
   "id": "479cc46c",
   "metadata": {},
   "source": [
    "What is Jupyter Notebook, and how does it differ from other IDEs such as VSCode?"
   ]
  },
  {
   "cell_type": "code",
   "execution_count": null,
   "id": "b0ab1b33",
   "metadata": {},
   "outputs": [],
   "source": [
    "#Open document format based on JSON that allows us to create and share documents. Great with running single line code\n",
    "#Jupyter is different than IDE because IDE provides basic interface for python code\n",
    "#It's also different than VSCode because VSCode is a text editor that you have to download plugins. Not the best at running single line code. "
   ]
  },
  {
   "cell_type": "markdown",
   "id": "8b78b231",
   "metadata": {},
   "source": [
    "What is the difference between a \"code\" cell (at the top of your notebook) and a \"markdown\" cell?"
   ]
  },
  {
   "cell_type": "code",
   "execution_count": null,
   "id": "e2fad868",
   "metadata": {},
   "outputs": [],
   "source": [
    "#Code Cell - can edit and write new code \n",
    "#Markdown cell - Same thing as code cell but the difference is that the syntax will generated as a stylized text"
   ]
  },
  {
   "cell_type": "markdown",
   "id": "d4fcc215",
   "metadata": {},
   "source": [
    "Describe each operator catagory: (Notebook 01_03)"
   ]
  },
  {
   "cell_type": "code",
   "execution_count": null,
   "id": "e342b817",
   "metadata": {},
   "outputs": [],
   "source": [
    "#file name - usually we would like to avoid spaces in the file name and put \"_\" underneath instead \n",
    "#A space can cause errors when loading a file or transferring files between computers"
   ]
  },
  {
   "cell_type": "markdown",
   "id": "7d048f8c",
   "metadata": {},
   "source": [
    "Describe what the phrase \"everything is an object\" means in Python; what is an object?"
   ]
  },
  {
   "cell_type": "code",
   "execution_count": null,
   "id": "185d1f68",
   "metadata": {},
   "outputs": [],
   "source": [
    "#In python everything has some kind of attribute. Object is a variable that contain a data or function to manipulate data. "
   ]
  }
 ],
 "metadata": {
  "kernelspec": {
   "display_name": "Python 3 (ipykernel)",
   "language": "python",
   "name": "python3"
  },
  "language_info": {
   "codemirror_mode": {
    "name": "ipython",
    "version": 3
   },
   "file_extension": ".py",
   "mimetype": "text/x-python",
   "name": "python",
   "nbconvert_exporter": "python",
   "pygments_lexer": "ipython3",
   "version": "3.11.5"
  }
 },
 "nbformat": 4,
 "nbformat_minor": 5
}
